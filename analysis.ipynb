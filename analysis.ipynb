{
 "cells": [
  {
   "cell_type": "markdown",
   "id": "82998613",
   "metadata": {},
   "source": [
    "# Main Program for Capital One Data Challenge\n",
    "Author: Harsh Alang\\\n",
    "Project Submission Date: August 28th, 2022"
   ]
  },
  {
   "cell_type": "code",
   "execution_count": 1,
   "id": "e069e60d",
   "metadata": {},
   "outputs": [],
   "source": [
    "import pandas as pd\n",
    "import numpy as np\n",
    "import functions\n",
    "from importlib import reload\n",
    "reload(functions)\n",
    "import plotly.graph_objects as go\n",
    "import plotly.express as px\n",
    "import plotly.offline as pyo\n",
    "import plotly.io as io\n",
    "\n",
    "import matplotlib.pyplot as plt\n",
    "\n",
    "\n",
    "flights = functions.load_data_file(\"Flights.csv\")\n",
    "tickets = functions.load_data_file(\"Tickets.csv\")\n",
    "airport = functions.load_data_file(\"Airport_Codes.csv\")"
   ]
  },
  {
   "cell_type": "code",
   "execution_count": 2,
   "id": "2637482e",
   "metadata": {},
   "outputs": [
    {
     "name": "stdout",
     "output_type": "stream",
     "text": [
      "(FL_DATE              1915886\n",
      "OP_CARRIER           1915886\n",
      "TAIL_NUM             1903730\n",
      "OP_CARRIER_FL_NUM    1915886\n",
      "ORIGIN_AIRPORT_ID    1915886\n",
      "ORIGIN               1915886\n",
      "ORIGIN_CITY_NAME     1915886\n",
      "DEST_AIRPORT_ID      1915886\n",
      "DESTINATION          1915886\n",
      "DEST_CITY_NAME       1915886\n",
      "DEP_DELAY            1865535\n",
      "ARR_DELAY            1859895\n",
      "CANCELLED            1915886\n",
      "AIR_TIME             1859335\n",
      "DISTANCE             1915256\n",
      "OCCUPANCY_RATE       1915576\n",
      "dtype: int64, FL_DATE               object\n",
      "OP_CARRIER            object\n",
      "TAIL_NUM              object\n",
      "OP_CARRIER_FL_NUM     object\n",
      "ORIGIN_AIRPORT_ID     object\n",
      "ORIGIN                object\n",
      "ORIGIN_CITY_NAME      object\n",
      "DEST_AIRPORT_ID       object\n",
      "DESTINATION           object\n",
      "DEST_CITY_NAME        object\n",
      "DEP_DELAY            float64\n",
      "ARR_DELAY            float64\n",
      "CANCELLED            float64\n",
      "AIR_TIME              object\n",
      "DISTANCE              object\n",
      "OCCUPANCY_RATE       float64\n",
      "dtype: object,        DEP_DELAY  ARR_DELAY  CANCELLED  OCCUPANCY_RATE\n",
      "count 1865535.00 1859895.00 1915886.00      1915576.00\n",
      "mean       10.80       5.65       0.03            0.65\n",
      "std        50.16      52.41       0.16            0.20\n",
      "min       -63.00     -94.00       0.00            0.30\n",
      "25%        -6.00     -15.00       0.00            0.48\n",
      "50%        -2.00      -6.00       0.00            0.65\n",
      "75%         7.00       8.00       0.00            0.82\n",
      "max      2941.00    2923.00       1.00            1.00, (1915886, 16)) \n",
      " (ITIN_ID              1167285\n",
      "YEAR                 1167285\n",
      "QUARTER              1167285\n",
      "ORIGIN               1167285\n",
      "ORIGIN_COUNTRY       1167285\n",
      "ORIGIN_STATE_ABR     1167285\n",
      "ORIGIN_STATE_NM      1167285\n",
      "ROUNDTRIP            1167285\n",
      "REPORTING_CARRIER    1167285\n",
      "PASSENGERS           1165308\n",
      "ITIN_FARE            1166325\n",
      "DESTINATION          1167285\n",
      "dtype: int64, ITIN_ID               object\n",
      "YEAR                   int64\n",
      "QUARTER                int64\n",
      "ORIGIN                object\n",
      "ORIGIN_COUNTRY        object\n",
      "ORIGIN_STATE_ABR      object\n",
      "ORIGIN_STATE_NM       object\n",
      "ROUNDTRIP            float64\n",
      "REPORTING_CARRIER     object\n",
      "PASSENGERS           float64\n",
      "ITIN_FARE             object\n",
      "DESTINATION           object\n",
      "dtype: object,             YEAR    QUARTER  ROUNDTRIP  PASSENGERS\n",
      "count 1167285.00 1167285.00 1167285.00  1165308.00\n",
      "mean     2019.00       1.00       0.61        2.07\n",
      "std         0.00       0.00       0.49        5.84\n",
      "min      2019.00       1.00       0.00        1.00\n",
      "25%      2019.00       1.00       0.00        1.00\n",
      "50%      2019.00       1.00       1.00        1.00\n",
      "75%      2019.00       1.00       1.00        1.00\n",
      "max      2019.00       1.00       1.00      769.00, (1167285, 12)) \n",
      " (TYPE            5146\n",
      "NAME            5146\n",
      "ELEVATION_FT    4942\n",
      "CONTINENT       3698\n",
      "ISO_COUNTRY     5134\n",
      "MUNICIPALITY    4611\n",
      "IATA_CODE       4459\n",
      "COORDINATES     5146\n",
      "dtype: int64, TYPE             object\n",
      "NAME             object\n",
      "ELEVATION_FT    float64\n",
      "CONTINENT        object\n",
      "ISO_COUNTRY      object\n",
      "MUNICIPALITY     object\n",
      "IATA_CODE        object\n",
      "COORDINATES      object\n",
      "dtype: object,        ELEVATION_FT\n",
      "count       4942.00\n",
      "mean        1016.49\n",
      "std         1634.71\n",
      "min        -1266.00\n",
      "25%           76.00\n",
      "50%          354.50\n",
      "75%         1187.75\n",
      "max        14472.00, (5146, 8))\n"
     ]
    }
   ],
   "source": [
    "pd.set_option('display.float_format', lambda x: '%.2f' % x)\n",
    "print (functions.summary_statistics(flights),\"\\n\", functions.summary_statistics(tickets), \"\\n\", functions.summary_statistics(airport))"
   ]
  },
  {
   "cell_type": "code",
   "execution_count": 3,
   "id": "441ea987",
   "metadata": {},
   "outputs": [],
   "source": [
    "functions.to_number(flights,[\"DISTANCE\",\"AIR_TIME\"])\n",
    "functions.to_number(tickets,[\"ITIN_FARE\"])\n",
    "\n",
    "## Next step creates histograms to make sure all numeric fields are captured correctly\n",
    "## Note:Hist function creates histogram on only numeric fields\n",
    "## Note: The output from below function will create interactive graphs, but we will change interactive graphs to\n",
    "## pdf to ensure file size is manageable\n",
    "## \n",
    "\n",
    "functions.hist(flights,\"flights\")\n",
    "functions.hist(tickets,\"tickets\")\n",
    "functions.hist(airport,\"airport\")"
   ]
  },
  {
   "cell_type": "code",
   "execution_count": 4,
   "id": "f0fb9595",
   "metadata": {},
   "outputs": [
    {
     "name": "stdout",
     "output_type": "stream",
     "text": [
      "-38.0\n",
      "202.0\n",
      "-15.0\n",
      "200.0\n",
      "0.0\n",
      "944.0\n",
      "(FL_DATE              1915886\n",
      "OP_CARRIER           1915886\n",
      "TAIL_NUM             1915886\n",
      "OP_CARRIER_FL_NUM    1915886\n",
      "ORIGIN_AIRPORT_ID    1915886\n",
      "ORIGIN               1915886\n",
      "ORIGIN_CITY_NAME     1915886\n",
      "DEST_AIRPORT_ID      1915886\n",
      "DESTINATION          1915886\n",
      "DEST_CITY_NAME       1915886\n",
      "DEP_DELAY            1915886\n",
      "ARR_DELAY            1915886\n",
      "CANCELLED            1915886\n",
      "AIR_TIME             1915886\n",
      "DISTANCE             1915886\n",
      "OCCUPANCY_RATE       1915886\n",
      "dtype: int64, FL_DATE               object\n",
      "OP_CARRIER            object\n",
      "TAIL_NUM              object\n",
      "OP_CARRIER_FL_NUM     object\n",
      "ORIGIN_AIRPORT_ID     object\n",
      "ORIGIN                object\n",
      "ORIGIN_CITY_NAME      object\n",
      "DEST_AIRPORT_ID       object\n",
      "DESTINATION           object\n",
      "DEST_CITY_NAME        object\n",
      "DEP_DELAY            float64\n",
      "ARR_DELAY            float64\n",
      "CANCELLED            float64\n",
      "AIR_TIME             float64\n",
      "DISTANCE             float64\n",
      "OCCUPANCY_RATE       float64\n",
      "dtype: object,        DEP_DELAY  ARR_DELAY  CANCELLED   AIR_TIME   DISTANCE  OCCUPANCY_RATE\n",
      "count 1915886.00 1915886.00 1915886.00 1915886.00 1915886.00      1915886.00\n",
      "mean        6.90       2.10       0.03     105.86     767.22            0.65\n",
      "std        27.93      31.16       0.16      72.17     580.61            0.22\n",
      "min       -15.00     -38.00       0.00    -121.00   -1947.00           -6.00\n",
      "25%        -6.00     -15.00       0.00      56.00     341.00            0.48\n",
      "50%        -3.00      -6.00       0.00      88.00     606.00            0.65\n",
      "75%         5.00       7.00       0.00     137.00    1010.00            0.82\n",
      "max       200.00     202.00       1.00    2222.00    9898.00            1.00, (1915886, 16)) \n",
      " (ITIN_ID              1167285\n",
      "YEAR                 1167285\n",
      "QUARTER              1167285\n",
      "ORIGIN               1167285\n",
      "ORIGIN_COUNTRY       1167285\n",
      "ORIGIN_STATE_ABR     1167285\n",
      "ORIGIN_STATE_NM      1167285\n",
      "ROUNDTRIP            1167285\n",
      "REPORTING_CARRIER    1167285\n",
      "PASSENGERS           1167285\n",
      "ITIN_FARE            1167285\n",
      "DESTINATION          1167285\n",
      "dtype: int64, ITIN_ID               object\n",
      "YEAR                   int64\n",
      "QUARTER                int64\n",
      "ORIGIN                object\n",
      "ORIGIN_COUNTRY        object\n",
      "ORIGIN_STATE_ABR      object\n",
      "ORIGIN_STATE_NM       object\n",
      "ROUNDTRIP            float64\n",
      "REPORTING_CARRIER     object\n",
      "PASSENGERS           float64\n",
      "ITIN_FARE            float64\n",
      "DESTINATION           object\n",
      "dtype: object,             YEAR    QUARTER  ROUNDTRIP  PASSENGERS  ITIN_FARE\n",
      "count 1167285.00 1167285.00 1167285.00  1167285.00 1167285.00\n",
      "mean     2019.00       1.00       0.61        2.66     356.34\n",
      "std         0.00       0.00       0.49       15.37     208.00\n",
      "min      2019.00       1.00       0.00        1.00       0.00\n",
      "25%      2019.00       1.00       0.00        1.00     207.00\n",
      "50%      2019.00       1.00       1.00        1.00     348.00\n",
      "75%      2019.00       1.00       1.00        1.00     483.00\n",
      "max      2019.00       1.00       1.00      769.00     944.00, (1167285, 12)) \n",
      " (TYPE            5146\n",
      "NAME            5146\n",
      "ELEVATION_FT    4942\n",
      "CONTINENT       3698\n",
      "ISO_COUNTRY     5134\n",
      "MUNICIPALITY    4611\n",
      "IATA_CODE       4459\n",
      "COORDINATES     5146\n",
      "dtype: int64, TYPE             object\n",
      "NAME             object\n",
      "ELEVATION_FT    float64\n",
      "CONTINENT        object\n",
      "ISO_COUNTRY      object\n",
      "MUNICIPALITY     object\n",
      "IATA_CODE        object\n",
      "COORDINATES      object\n",
      "dtype: object,        ELEVATION_FT\n",
      "count       4942.00\n",
      "mean        1016.49\n",
      "std         1634.71\n",
      "min        -1266.00\n",
      "25%           76.00\n",
      "50%          354.50\n",
      "75%         1187.75\n",
      "max        14472.00, (5146, 8))\n"
     ]
    },
    {
     "data": {
      "image/png": "[encoded data removed]",
      "text/plain": [
       "<Figure size 432x288 with 1 Axes>"
      ]
     },
     "metadata": {
      "needs_background": "light"
     },
     "output_type": "display_data"
    },
    {
     "data": {
      "image/png": "[encoded data removed]",
      "text/plain": [
       "<Figure size 432x288 with 1 Axes>"
      ]
     },
     "metadata": {
      "needs_background": "light"
     },
     "output_type": "display_data"
    },
    {
     "data": {
      "image/png": "[encoded data removed]",
      "text/plain": [
       "<Figure size 432x288 with 1 Axes>"
      ]
     },
     "metadata": {
      "needs_background": "light"
     },
     "output_type": "display_data"
    }
   ],
   "source": [
    "\"\"\"After looking at the histogram of the flights dataset, we can say that ARR_DELAY and DEP_DELAY have\n",
    "large number of outliers,\n",
    "while these are interesting data points, for our data analysis we will remove any data points outside the \n",
    "1 - 99 percentile range and replace them with the median.\n",
    "To calculate most profitable round trip routes, we will use flights_ds after removing the outliers.\n",
    "We will also use the same approach to clean Fare information from the tickets dataset, as this variable will be\n",
    "used for revenue calculation. We will use slightly narrower population - 1 to 95 percentile range.\"\"\"\n",
    "\n",
    "\n",
    "    \n",
    "flights = functions.remove_outliers(flights,['ARR_DELAY','DEP_DELAY'],.01,.99)\n",
    "tickets = functions.remove_outliers(tickets,['ITIN_FARE'],.01,.95)\n",
    "\n",
    "\n",
    "print (functions.summary_statistics(flights),\"\\n\", functions.summary_statistics(tickets), \"\\n\", functions.summary_statistics(airport))\n",
    "\n",
    "# To limit size of the files created, output of the following was merged and one pdf file titled \"Histograms.pdf\" was created\n",
    "functions.boxplot(flights,\"ARR_DELAY\")\n",
    "functions.boxplot(flights,\"DEP_DELAY\")\n",
    "functions.boxplot(tickets,\"ITIN_FARE\")"
   ]
  },
  {
   "cell_type": "code",
   "execution_count": 5,
   "id": "934d3d5f",
   "metadata": {},
   "outputs": [],
   "source": [
    "\"\"\" After exploring data fields in the flights and tickets dataset, we can say for certain that there are no clear key \n",
    "fields that links the 2 tables, as initial join using  led to cartesian.\n",
    "We will group tickets and flights datasets independently and then will join them based on Origin & Destination\n",
    "\n",
    "\"\"\"\n",
    "f_summary = flights.query(\"CANCELLED == 0\").groupby(['ORIGIN','DESTINATION']).count()\n",
    "\n",
    "f_summary.reset_index(inplace=True)\n",
    "f_summary = f_summary[['ORIGIN','DESTINATION','FL_DATE']].rename(columns={'FL_DATE':'FLIGHT_COUNT'})\n",
    "\n",
    "\n",
    "#f_summary.rename(columns={'FL_DATE':'FLIGHT_COUNT'})"
   ]
  },
  {
   "cell_type": "code",
   "execution_count": 8,
   "id": "43e612e6",
   "metadata": {},
   "outputs": [],
   "source": [
    "\"\"\"Summarize tickets dataset by ORIGIN & DESTINATION and calculate percentage of passengers that book a round trip \n",
    "for a given route.\n",
    "For 1st problem, since we are asked to find busiest round trips, we will first find busiest routes and then \n",
    "multiply with 'ROUNDTRIP_RATE' (% of ROUND_TRIPS based on data from tickets\"\"\"\n",
    "#Using histograms we noticed that some routes had outliers, to address that we will use the median value instead of\n",
    "#the average value. Median will be calculated using the quantile 0.50\"\"\"\n",
    "\n",
    "\n",
    "\n",
    "t_summary = tickets.query(\"ROUNDTRIP == 1\").groupby(['ORIGIN','DESTINATION']).aggregate({'PASSENGERS':'sum',\\\n",
    "                                                                                         'ITIN_FARE': functions.q50,\n",
    "                                                                                         'ITIN_ID':'count'})\n",
    "\n",
    "t_summary.reset_index(inplace=True)\n",
    "\n",
    "t_summary1 = tickets.groupby(['ORIGIN','DESTINATION']).aggregate({'PASSENGERS':'sum'})\n",
    "t_summary1.reset_index(inplace=True)\n",
    "\n",
    "round_trip_rate = pd.merge(t_summary, t_summary1,on=['ORIGIN','DESTINATION'],how='inner').\\\n",
    "assign(ROUNDTRIP_RATE = lambda x:(x['PASSENGERS_x']/x['PASSENGERS_y']))\n",
    "\n",
    "### Multiply \"ROUNDTRIP_RATE\" to the total # of flights calculated from the flights table\n",
    "\n",
    "solution_1 = pd.merge(f_summary,round_trip_rate, how='inner', on =['ORIGIN','DESTINATION']).\\\n",
    "assign(FLIGHT_COUNT_FL = lambda x:(x['FLIGHT_COUNT']* x['ROUNDTRIP_RATE']))\n",
    "\n",
    "busiest_round_trips = solution_1[['ORIGIN','DESTINATION','FLIGHT_COUNT_FL']].round()\n"
   ]
  },
  {
   "cell_type": "markdown",
   "id": "7bcfa9c1",
   "metadata": {},
   "source": [
    "# Solution 1: 10 Busiest Round Trip Routes"
   ]
  },
  {
   "cell_type": "code",
   "execution_count": 9,
   "id": "89c9e209",
   "metadata": {},
   "outputs": [
    {
     "name": "stdout",
     "output_type": "stream",
     "text": [
      "     ORIGIN DESTINATION  FLIGHT_COUNT_FL\n",
      "3993    ORD         LGA          2207.00\n",
      "3058    LGA         ORD          2007.00\n",
      "5176    SFO         LAX          1973.00\n",
      "2916    LAX         LAS          1796.00\n",
      "5050    SEA         PDX          1706.00\n",
      "3009    LGA         ATL          1642.00\n",
      "2954    LAX         SFO          1611.00\n",
      "2693    JFK         LAX          1603.00\n",
      "197     ATL         MCO          1597.00\n",
      "5032    SEA         LAX          1553.00\n"
     ]
    }
   ],
   "source": [
    "print (busiest_round_trips.sort_values(by=['FLIGHT_COUNT_FL'], ascending=False).head(10))\n",
    "#busiest_round_trips.sort_values(by=['FLIGHT_COUNT_FL'], ascending=False).head(10).to_excel('Solution_1.xlsx')"
   ]
  },
  {
   "cell_type": "code",
   "execution_count": 10,
   "id": "487c26c6",
   "metadata": {},
   "outputs": [
    {
     "name": "stdout",
     "output_type": "stream",
     "text": [
      "FL_DATE              1757587\n",
      "OP_CARRIER           1757587\n",
      "TAIL_NUM             1757587\n",
      "OP_CARRIER_FL_NUM    1757587\n",
      "ORIGIN_AIRPORT_ID    1757587\n",
      "ORIGIN               1757587\n",
      "ORIGIN_CITY_NAME     1757587\n",
      "DEST_AIRPORT_ID      1757587\n",
      "DESTINATION          1757587\n",
      "DEST_CITY_NAME       1757587\n",
      "DEP_DELAY            1757587\n",
      "ARR_DELAY            1757587\n",
      "CANCELLED            1757587\n",
      "AIR_TIME             1757587\n",
      "DISTANCE             1757587\n",
      "OCCUPANCY_RATE       1757587\n",
      "ORIGIN_CITY          1757587\n",
      "ORIGIN_STATE         1757587\n",
      "IATA_CODE            1757587\n",
      "TYPE                 1757587\n",
      "MUNICIPALITY         1757587\n",
      "dtype: int64\n"
     ]
    }
   ],
   "source": [
    "\"\"\" Tried to merge pandas airport and flights datasets by the available fields, but the count of the final dataset\n",
    "    indicated that we should add another key field, so creating ORIGIN_CITY from the ORIGIN_CITY_NAME\"\"\"\n",
    "\n",
    "flights[['ORIGIN_CITY','ORIGIN_STATE']] = flights['ORIGIN_CITY_NAME'].str.split(',', expand=True)\n",
    "#print(flights_ds)\n",
    "\n",
    "flights_summary_v1 = pd.merge(flights,airport[['IATA_CODE','TYPE','MUNICIPALITY']], how='inner',\\\n",
    "                              left_on=['ORIGIN','ORIGIN_CITY'], right_on =['IATA_CODE','MUNICIPALITY'])\n",
    "\n",
    "print(flights_summary_v1.count())"
   ]
  },
  {
   "cell_type": "code",
   "execution_count": 11,
   "id": "5f8f524a",
   "metadata": {},
   "outputs": [
    {
     "name": "stdout",
     "output_type": "stream",
     "text": [
      "  ORIGIN DESTINATION            TYPE  FL_DATE  NO_OF_PASSENGERS  TOTAL_COSTS  \\\n",
      "0    ABI         DFW  medium_airport      487          64216.00   7066478.56   \n",
      "1    ABQ         ATL   large_airport      165          21348.00   7183458.60   \n",
      "2    ABQ         AUS   large_airport       70           8864.00   2273088.80   \n",
      "3    ABQ         BWI   large_airport       85          10836.00   4381352.00   \n",
      "4    ABQ         DAL   large_airport      408          53976.00  12998660.40   \n",
      "5    ABQ         DEN   large_airport      574          74736.00  16095635.36   \n",
      "6    ABQ         DFW   large_airport      953         125264.01  30602688.52   \n",
      "7    ABQ         HOU   large_airport      243          31208.00   8414113.32   \n",
      "8    ABQ         IAH   large_airport      384          50218.00  13585078.56   \n",
      "9    ABQ         JFK   large_airport       60           7474.00   3427821.60   \n",
      "\n",
      "   AIR_TIME  ARR_DELAY  DEP_DELAY  OCCUPANCY_RATE  \n",
      "0     34.22       4.47       2.86            0.66  \n",
      "1    145.32     -10.42      -0.27            0.65  \n",
      "2     77.41      -6.91       4.06            0.63  \n",
      "3    186.75      -8.99       4.98            0.64  \n",
      "4     78.20      -2.33       6.32            0.66  \n",
      "5     56.08      -0.75       5.97            0.65  \n",
      "6     48.95       0.48       3.51            0.66  \n",
      "7     97.04      -7.94       3.49            0.64  \n",
      "8     99.43      -1.18       2.36            0.65  \n",
      "9    206.58       4.63      15.90            0.62  \n"
     ]
    }
   ],
   "source": [
    "flights_summary_v1['ARR_DELAY_COSTS']= flights_summary_v1['ARR_DELAY'].apply(functions.delay_costs)\n",
    "flights_summary_v1['DEP_DELAY_COSTS']= flights_summary_v1['DEP_DELAY'].apply(functions.delay_costs)\n",
    "flights_summary_v1['AIRPORT_COSTS'] = flights_summary_v1['TYPE'].apply(functions.airport_costs)\n",
    "flights_summary_v1['COSTS_PER_MILE']= flights_summary_v1['DISTANCE'].apply(functions.costs_per_mile)\n",
    "flights_summary_v1['NO_OF_PASSENGERS']= flights_summary_v1['OCCUPANCY_RATE'].apply(functions.number_of_passengers)\n",
    "\n",
    "\n",
    "\n",
    "#flights_costs = flights_summary_v1[['NO_OF_PASSENGERS', 'ARR_DELAY_COSTS','DEP_DELAY', 'DEP_DELAY_COSTS','AIRPORT_COSTS','TYPE',\\\n",
    "#                          'COSTS_PER_MILE','DISTANCE','OCCUPANCY_RATE','CANCELLED']]\n",
    "\n",
    "flights_summary_v1['TOTAL_COSTS']= (flights_summary_v1['ARR_DELAY_COSTS']+flights_summary_v1['AIRPORT_COSTS']+\\\n",
    "                    flights_summary_v1['DEP_DELAY_COSTS']+flights_summary_v1['COSTS_PER_MILE'])*2\n",
    "\n",
    "flight_costs_rev = flights_summary_v1.query(\"CANCELLED == 0\").groupby(['ORIGIN','DESTINATION','TYPE']).\\\n",
    "                       aggregate({'FL_DATE':'count','NO_OF_PASSENGERS':'sum','TOTAL_COSTS':'sum','AIR_TIME':'mean',\n",
    "                                 'ARR_DELAY':'mean','DEP_DELAY':'mean','OCCUPANCY_RATE':'mean'})\n",
    "\n",
    "flight_costs_rev.reset_index(inplace=True)\n",
    "\n",
    "\n",
    "print (flight_costs_rev.head(10))"
   ]
  },
  {
   "cell_type": "code",
   "execution_count": 12,
   "id": "77ed0c06",
   "metadata": {},
   "outputs": [
    {
     "name": "stdout",
     "output_type": "stream",
     "text": [
      "Index(['ORIGIN', 'DESTINATION', 'PASSENGERS', 'ITIN_FARE_MEDIAN', 'ITIN_ID'], dtype='object')\n",
      "Index(['ORIGIN', 'DESTINATION', 'PASSENGERS'], dtype='object')\n"
     ]
    }
   ],
   "source": [
    "flight_costs_rev = flight_costs_rev.rename(columns={'FL_DATE':'FLIGHTS_COUNT'})\n",
    "t_summary = t_summary.rename(columns={'ITIN_FARE':'ITIN_FARE_MEDIAN'})\n",
    "## we will have to address outliers in the tickets dataset, we already made sure that outliers outside 0.1 and .95 \n",
    "## range were removed.\n",
    "## now we will make sure that we have multiple datapoints for FARE for a given route \n",
    "## and calculate median on that route\n",
    "\n",
    "\n",
    "\n",
    "#print (t_origin_destination.columns)\n",
    "print (t_summary.columns)\n",
    "print (t_summary1.columns)\n",
    "\n",
    "\n",
    "costs_rev_ds = pd.merge(flight_costs_rev, t_summary, how='inner', on=['ORIGIN','DESTINATION'])"
   ]
  },
  {
   "cell_type": "code",
   "execution_count": 13,
   "id": "03987f56",
   "metadata": {},
   "outputs": [
    {
     "name": "stdout",
     "output_type": "stream",
     "text": [
      "Index(['ORIGIN', 'DESTINATION', 'TYPE', 'FLIGHTS_COUNT', 'NO_OF_PASSENGERS',\n",
      "       'TOTAL_COSTS', 'AIR_TIME', 'ARR_DELAY', 'DEP_DELAY', 'OCCUPANCY_RATE',\n",
      "       'PASSENGERS', 'ITIN_FARE_MEDIAN', 'ITIN_ID', 'COST_PER_ROUND_TRIP'],\n",
      "      dtype='object')\n"
     ]
    }
   ],
   "source": [
    "## Next we will calculate cost per round trip\n",
    "costs_rev_ds = costs_rev_ds.assign(COST_PER_ROUND_TRIP = lambda x:(x['TOTAL_COSTS']/(x['FLIGHTS_COUNT'])))\n",
    "print (costs_rev_ds.columns)"
   ]
  },
  {
   "cell_type": "raw",
   "id": "088c436a",
   "metadata": {},
   "source": [
    "# Metadata of key metrics used for Profit Calculation:\n",
    "a) Revenue from tickets -REV_TICKETS_PER_ROUND_TRIP : No. of Passengers per flight * $35\n",
    "b) Revenue from the baggage -REV_BAGGAGE_PER_ROUND_TRIP: No. of Passengers per flight * Median Round Trip fare(median calculated for the route)\n",
    "c) REVENUE: REV_TICKETS_PER_ROUND_TRIP + REV_BAGGAGE_PER_ROUND_TRIP\n",
    "d) PROFIT: (a + b) - COSTS_PER_ROUND_TRIP\n",
    "e) PROFIT_MARGIN: While profits are important, airline industry can be unpredictable as various factors like fuel price and weather, etc.. can impact profits, higher profit margins should be used to chose flight routes to ensure proper cushion if things don't go as expected: PROFIT/ (a+b)"
   ]
  },
  {
   "cell_type": "code",
   "execution_count": 14,
   "id": "3c07031e",
   "metadata": {},
   "outputs": [
    {
     "name": "stdout",
     "output_type": "stream",
     "text": [
      "Index(['ORIGIN', 'DESTINATION', 'TYPE', 'FLIGHTS_COUNT', 'NO_OF_PASSENGERS',\n",
      "       'TOTAL_COSTS', 'AIR_TIME', 'ARR_DELAY', 'DEP_DELAY', 'OCCUPANCY_RATE',\n",
      "       'PASSENGERS', 'ITIN_FARE_MEDIAN', 'ITIN_ID', 'COST_PER_ROUND_TRIP',\n",
      "       'REV_TICKETS_PER_ROUND_TRIP', 'REV_BAGGAGE_PER_ROUND_TRIP', 'REVENUE',\n",
      "       'PROFIT', 'PROFIT_MARGIN'],\n",
      "      dtype='object')\n"
     ]
    }
   ],
   "source": [
    "## Calculate fields to calculate revenue\n",
    "## since we include only round_trip == 1 records for tickets dataset, we dont need to multiply the fare *2\n",
    "## we divide number of passengers by flight count to estimate the number of passengers per flight and multiply by \n",
    "## average fare charged(round trip only)\n",
    "costs_rev_ds = costs_rev_ds.assign(REV_TICKETS_PER_ROUND_TRIP = \\\n",
    "                    lambda x: ( ((x['NO_OF_PASSENGERS']/x['FLIGHTS_COUNT'])*x['ITIN_FARE_MEDIAN'])  ))\n",
    "\n",
    "##next we calculate revenue by tickets sold\n",
    "costs_rev_ds = costs_rev_ds.assign(REV_BAGGAGE_PER_ROUND_TRIP = \\\n",
    "                                   lambda x: ((x['NO_OF_PASSENGERS']/x['FLIGHTS_COUNT'])*35)\n",
    "                                  )\n",
    "costs_rev_ds = costs_rev_ds.assign(REVENUE =lambda x: (\\\n",
    "                           (x['REV_TICKETS_PER_ROUND_TRIP'] + x['REV_BAGGAGE_PER_ROUND_TRIP']) ))\n",
    "costs_rev_ds = costs_rev_ds.assign(PROFIT= lambda x: ( \\\n",
    "                                    (x['REV_TICKETS_PER_ROUND_TRIP'] + x['REV_BAGGAGE_PER_ROUND_TRIP']) - \\\n",
    "                                                      x['COST_PER_ROUND_TRIP'])\n",
    "                                  )\n",
    "costs_rev_ds = costs_rev_ds.assign(PROFIT_MARGIN =lambda x: (\\\n",
    "                           x['PROFIT']/ (x['REV_TICKETS_PER_ROUND_TRIP'] + x['REV_BAGGAGE_PER_ROUND_TRIP']) ))\n",
    "\n",
    "print(costs_rev_ds.columns)"
   ]
  },
  {
   "cell_type": "markdown",
   "id": "3714e9b2",
   "metadata": {},
   "source": [
    "# Solution 2: 10 Most Profitable Round Trip Routes"
   ]
  },
  {
   "cell_type": "code",
   "execution_count": 15,
   "id": "bb1882c4",
   "metadata": {},
   "outputs": [
    {
     "name": "stdout",
     "output_type": "stream",
     "text": [
      "     ORIGIN DESTINATION            TYPE  ITIN_ID  ARR_DELAY  DEP_DELAY  \\\n",
      "1460    DTW         DAY   large_airport        6      -0.95      11.00   \n",
      "4891    STX         ATL  medium_airport        6      -1.48       4.97   \n",
      "2016    HVN         PHL  medium_airport       10       1.78       4.78   \n",
      "166     ATL         GTR   large_airport        5      -2.30       4.32   \n",
      "2223    ILM         CLT  medium_airport        8      -3.33       2.82   \n",
      "4419    SCC         ANC  medium_airport       76      -9.03      -0.84   \n",
      "88      ANC         SCC   large_airport       24      -7.20       0.38   \n",
      "1323    DEN         ISN   large_airport        5       7.07      12.81   \n",
      "1684    EYW         DFW  medium_airport        5      19.77      17.70   \n",
      "4099    RAP         ORD  medium_airport        5       9.00      13.86   \n",
      "\n",
      "      AIR_TIME  OCCUPANCY_RATE  ITIN_FARE_MEDIAN  COST_PER_ROUND_TRIP  \\\n",
      "1460     33.75            0.65            848.50             25915.61   \n",
      "4891    224.85            0.66            879.00             41944.93   \n",
      "2016     47.42            0.64            674.00             15644.08   \n",
      "166      47.29            0.65            742.00             25947.74   \n",
      "2223     44.02            0.65            651.00             14617.71   \n",
      "4419     87.57            0.64            727.00             22442.54   \n",
      "88       81.70            0.68            736.00             32340.86   \n",
      "1323     86.29            0.67            748.00             34017.88   \n",
      "1684    175.51            0.65            769.00             33937.37   \n",
      "4099    103.14            0.69            675.00             28499.37   \n",
      "\n",
      "      REV_TICKETS_PER_ROUND_TRIP  FLIGHTS_COUNT  REV_BAGGAGE_PER_ROUND_TRIP  \\\n",
      "1460                   109595.64            311                     4520.74   \n",
      "4891                   115896.15             40                     4614.75   \n",
      "2016                    86583.57            212                     4496.18   \n",
      "166                     96567.71            248                     4555.08   \n",
      "2223                    84923.48            732                     4565.78   \n",
      "4419                    92626.95             61                     4459.34   \n",
      "88                      99564.44            180                     4734.72   \n",
      "1323                    99574.88            321                     4659.25   \n",
      "1684                    99303.53             90                     4519.67   \n",
      "4099                    93342.86              7                     4840.00   \n",
      "\n",
      "       REVENUE   PROFIT  PROFIT_MARGIN  \n",
      "1460 114116.38 88200.78           0.77  \n",
      "4891 120510.90 78565.97           0.65  \n",
      "2016  91079.75 75435.67           0.83  \n",
      "166  101122.79 75175.05           0.74  \n",
      "2223  89489.26 74871.56           0.84  \n",
      "4419  97086.30 74643.75           0.77  \n",
      "88   104299.17 71958.31           0.69  \n",
      "1323 104234.13 70216.25           0.67  \n",
      "1684 103823.20 69885.83           0.67  \n",
      "4099  98182.86 69683.49           0.71  \n"
     ]
    }
   ],
   "source": [
    "## we add ITIN> 4 to make sure we have few data points from the tickets sample dataset about fare for a given route, \n",
    "## it's\n",
    "## not safe to make decision based on 1 data point, we are considering minimum as 5 to make decision confidently\n",
    "print (costs_rev_ds\\\n",
    "       [['ORIGIN','DESTINATION','TYPE','ITIN_ID','ARR_DELAY','DEP_DELAY','AIR_TIME','OCCUPANCY_RATE',\\\n",
    "         'ITIN_FARE_MEDIAN','COST_PER_ROUND_TRIP',\\\n",
    "         'REV_TICKETS_PER_ROUND_TRIP','FLIGHTS_COUNT',\\\n",
    "         'REV_BAGGAGE_PER_ROUND_TRIP',\\\n",
    "         'REVENUE',\\\n",
    "         'PROFIT','PROFIT_MARGIN']].query(\"ITIN_ID >4\")\\\n",
    "       .sort_values(by=['PROFIT'], ascending=False).head(10))"
   ]
  },
  {
   "cell_type": "markdown",
   "id": "18ed8108",
   "metadata": {},
   "source": [
    "# For Solution 3\n",
    "I would like to understand how various factors like Arrival/Departure delays,occupancy rates, air time can affect our Profit Margins. I would also like to see if there is a relationship btw arrival/departure delays with the airport type. and if profit margins are impacted by air time, and other factors"
   ]
  },
  {
   "cell_type": "code",
   "execution_count": 16,
   "id": "bf0d0475",
   "metadata": {},
   "outputs": [],
   "source": [
    "## Graphs.html was created initially but due to memory issue file format was changed to pdf\n",
    "with open(\"Graphs.html\",'w') as f:\n",
    "\n",
    "\n",
    "    functions.graphs(px.box,costs_rev_ds,'TYPE','ARR_DELAY')\n",
    "    functions.graphs(px.box, costs_rev_ds,'TYPE', 'DEP_DELAY')\n",
    "    functions.graphs(px.scatter, costs_rev_ds.loc[costs_rev_ds['PROFIT_MARGIN']>0], 'AIR_TIME','PROFIT_MARGIN')\n",
    "    functions.graphs(px.scatter, costs_rev_ds.loc[costs_rev_ds['PROFIT_MARGIN']>0], 'PROFIT_MARGIN','ARR_DELAY')\n",
    "    functions.graphs(px.scatter, costs_rev_ds.loc[costs_rev_ds['PROFIT_MARGIN']>0], 'PROFIT_MARGIN','DEP_DELAY')\n",
    "\n",
    "    functions.graphs(px.box,costs_rev_ds,'TYPE','PROFIT_MARGIN')\n",
    "    functions.graphs(px.box,costs_rev_ds,'TYPE','OCCUPANCY_RATE')\n",
    "    functions.graphs(px.scatter, costs_rev_ds.loc[costs_rev_ds['PROFIT_MARGIN']>0],'PROFIT_MARGIN','OCCUPANCY_RATE')\n",
    "    functions.graphs(px.scatter, costs_rev_ds.loc[costs_rev_ds['PROFIT_MARGIN']>0], 'FLIGHTS_COUNT','PROFIT_MARGIN')\n",
    "    functions.graphs(px.scatter, costs_rev_ds, x='ITIN_FARE_MEDIAN',y='OCCUPANCY_RATE')"
   ]
  },
  {
   "cell_type": "raw",
   "id": "cfe1f640",
   "metadata": {},
   "source": [
    "# After reviewing the above graphs, we make following observations:\n",
    "a) AIR_TIME and Profit Margins have negative correlation\n",
    "b) Larger airports have higher chance of arrival and departure delays than medium airports\n",
    "c) we do not see any correlation between Occupancy Rates and Air Fares\n",
    "So, to pick the top 5 airports we will pick routes that have high:\n",
    "    a) profit margins\n",
    "    b) use medium_airports\n",
    "    c) have air_time below 100"
   ]
  },
  {
   "cell_type": "markdown",
   "id": "354ff46f",
   "metadata": {},
   "source": [
    "# Solution 3: 5 Recommended Round Trip Routes based on above factors"
   ]
  },
  {
   "cell_type": "code",
   "execution_count": 17,
   "id": "ba704d36",
   "metadata": {},
   "outputs": [
    {
     "name": "stdout",
     "output_type": "stream",
     "text": [
      "     ORIGIN DESTINATION            TYPE  FLIGHTS_COUNT  NO_OF_PASSENGERS  \\\n",
      "1540    EGE         DEN  medium_airport            244          32400.00   \n",
      "4423    SCE         PHL  medium_airport            321          42154.00   \n",
      "2281    ISP         PHL  medium_airport            167          20902.00   \n",
      "2924    MDT         IAD  medium_airport            273          34412.00   \n",
      "2016    HVN         PHL  medium_airport            212          27234.00   \n",
      "\n",
      "      TOTAL_COSTS  AIR_TIME  ARR_DELAY  DEP_DELAY  OCCUPANCY_RATE  PASSENGERS  \\\n",
      "1540   3811430.80     32.46      14.36      10.05            0.66        1.00   \n",
      "4423   4699714.68     34.19      -0.49       2.36            0.66        5.00   \n",
      "2281   2316845.60     43.76       1.64       2.72            0.63        1.00   \n",
      "2924   3808954.32     27.55      -0.97       1.92            0.63        2.00   \n",
      "2016   3316544.24     47.42       1.78       4.78            0.64       12.00   \n",
      "\n",
      "      ITIN_FARE_MEDIAN  ITIN_ID  COST_PER_ROUND_TRIP  \\\n",
      "1540            884.00        1             15620.62   \n",
      "4423            769.50        4             14640.86   \n",
      "2281            752.00        1             13873.33   \n",
      "2924            676.00        1             13952.21   \n",
      "2016            674.00       10             15644.08   \n",
      "\n",
      "      REV_TICKETS_PER_ROUND_TRIP  REV_BAGGAGE_PER_ROUND_TRIP   REVENUE  \\\n",
      "1540                   117383.61                     4647.54 122031.15   \n",
      "4423                   101051.41                     4596.23 105647.64   \n",
      "2281                    94121.58                     4380.66  98502.24   \n",
      "2924                    85210.67                     4411.79  89622.46   \n",
      "2016                    86583.57                     4496.18  91079.75   \n",
      "\n",
      "        PROFIT  PROFIT_MARGIN  \n",
      "1540 106410.53           0.87  \n",
      "4423  91006.79           0.86  \n",
      "2281  84628.91           0.86  \n",
      "2924  75670.25           0.84  \n",
      "2016  75435.67           0.83  \n"
     ]
    }
   ],
   "source": [
    "print (costs_rev_ds.query(\"TYPE == 'medium_airport' & AIR_TIME < 100 &  PROFIT_MARGIN > 0.80\")\\\n",
    "      .sort_values(by=['PROFIT','PROFIT_MARGIN'], ascending = False).head(5))\n",
    "\n",
    "#costs_rev_ds.query(\"TYPE == 'medium_airport' & AIR_TIME < 100  & PROFIT_MARGIN > 0.80\")\\\n",
    "#   .sort_values(by=['PROFIT','PROFIT_MARGIN'], ascending = False).head(5).to_excel(\"Solution_3.xlsx\")"
   ]
  },
  {
   "cell_type": "markdown",
   "id": "e8166a28",
   "metadata": {},
   "source": [
    "# Solution 4: Number of Round Trips to break-even"
   ]
  },
  {
   "cell_type": "code",
   "execution_count": 18,
   "id": "af5032a7",
   "metadata": {},
   "outputs": [
    {
     "name": "stdout",
     "output_type": "stream",
     "text": [
      "     ORIGIN DESTINATION            TYPE  FLIGHTS_COUNT  NO_OF_PASSENGERS  \\\n",
      "1540    EGE         DEN  medium_airport            244          32400.00   \n",
      "4423    SCE         PHL  medium_airport            321          42154.00   \n",
      "2281    ISP         PHL  medium_airport            167          20902.00   \n",
      "2924    MDT         IAD  medium_airport            273          34412.00   \n",
      "2016    HVN         PHL  medium_airport            212          27234.00   \n",
      "\n",
      "      TOTAL_COSTS  AIR_TIME  ARR_DELAY  DEP_DELAY  OCCUPANCY_RATE  PASSENGERS  \\\n",
      "1540   3811430.80     32.46      14.36      10.05            0.66        1.00   \n",
      "4423   4699714.68     34.19      -0.49       2.36            0.66        5.00   \n",
      "2281   2316845.60     43.76       1.64       2.72            0.63        1.00   \n",
      "2924   3808954.32     27.55      -0.97       1.92            0.63        2.00   \n",
      "2016   3316544.24     47.42       1.78       4.78            0.64       12.00   \n",
      "\n",
      "      ITIN_FARE_MEDIAN  ITIN_ID  COST_PER_ROUND_TRIP  \\\n",
      "1540            884.00        1             15620.62   \n",
      "4423            769.50        4             14640.86   \n",
      "2281            752.00        1             13873.33   \n",
      "2924            676.00        1             13952.21   \n",
      "2016            674.00       10             15644.08   \n",
      "\n",
      "      REV_TICKETS_PER_ROUND_TRIP  REV_BAGGAGE_PER_ROUND_TRIP   REVENUE  \\\n",
      "1540                   117383.61                     4647.54 122031.15   \n",
      "4423                   101051.41                     4596.23 105647.64   \n",
      "2281                    94121.58                     4380.66  98502.24   \n",
      "2924                    85210.67                     4411.79  89622.46   \n",
      "2016                    86583.57                     4496.18  91079.75   \n",
      "\n",
      "        PROFIT  PROFIT_MARGIN  NUMBER_OF_TRIPS_TO_BREAKEVEN  \n",
      "1540 106410.53           0.87                        845.78  \n",
      "4423  91006.79           0.86                        988.94  \n",
      "2281  84628.91           0.86                       1063.47  \n",
      "2924  75670.25           0.84                       1189.37  \n",
      "2016  75435.67           0.83                       1193.07  \n"
     ]
    }
   ],
   "source": [
    "recommended_routes = costs_rev_ds.query(\"TYPE == 'medium_airport' & AIR_TIME < 100  & PROFIT_MARGIN > 0.80\")\\\n",
    "    .sort_values(by=['PROFIT','PROFIT_MARGIN'], ascending = False).head(5)\n",
    "recommended_routes=recommended_routes.assign(NUMBER_OF_TRIPS_TO_BREAKEVEN = lambda x: ((90000000/x['PROFIT'])))\n",
    "\n",
    "#recommended_routes.assign\n",
    "\n",
    "recommended_routes.assign(NUMBER_OF_TRIPS_TO_BREAKEVEN = lambda x: ((90000000/x['PROFIT']))).to_excel('Solution_4.xlsx')\n",
    "print(recommended_routes)"
   ]
  },
  {
   "cell_type": "markdown",
   "id": "51bcd1a3",
   "metadata": {},
   "source": [
    "# Solution 5:"
   ]
  },
  {
   "cell_type": "raw",
   "id": "aed0a8ed",
   "metadata": {},
   "source": [
    "To better make the decision about which route to choose, we will need to gather additional \n",
    "information regarding: \n",
    "a) Competition: Existing airlines serving the routes - their schedule\n",
    "b) Tickets data: Looking at the tickets data, and the frequency of routes, we cannot make decision of fare charged \n",
    "   confidently. I would prefer to get bigger sample for the tickets data with enough records for a given routes.\n",
    "c) Capacity of the planes serving the shorter routes: Right now we assumed that planes can carry upto 200 passengers,\n",
    "   it's very likely that in real world that's not the case. Since, we recommend shorter routes(air time <100), it\n",
    "   will be good to know passenger capacity of other airlines serving similar routes.\n",
    "d) Revenue from passengers checking-in baggage: We may have over-estimated this figure, since we our leaning towards \n",
    "   offering routes, it's very likely that percentage of passengers check-in flights is less than 50%\n",
    "   (for the round-trip).\n",
    "e) Other factors: Shorter routes may cause additional pressure on airlines staff, flight crew, and the airplane, and\n",
    "   it will be nice to see this data. For instance, life of plane should be compared based on the routes: # of years \n",
    "   in service for longer routes vs. shorter routes.\n"
   ]
  },
  {
   "cell_type": "code",
   "execution_count": null,
   "id": "41385b50",
   "metadata": {},
   "outputs": [],
   "source": []
  }
 ],
 "metadata": {
  "kernelspec": {
   "display_name": "Python 3 (ipykernel)",
   "language": "python",
   "name": "python3"
  },
  "language_info": {
   "codemirror_mode": {
    "name": "ipython",
    "version": 3
   },
   "file_extension": ".py",
   "mimetype": "text/x-python",
   "name": "python",
   "nbconvert_exporter": "python",
   "pygments_lexer": "ipython3",
   "version": "3.9.12"
  }
 },
 "nbformat": 4,
 "nbformat_minor": 5
}
